{
 "cells": [
  {
   "cell_type": "code",
   "execution_count": null,
   "metadata": {},
   "outputs": [],
   "source": [
    "# !pip install selenium"
   ]
  },
  {
   "cell_type": "code",
   "execution_count": 43,
   "metadata": {},
   "outputs": [],
   "source": [
    "import numpy as np\n",
    "import pandas as pd\n",
    "import time \n",
    "import datetime\n",
    "import re\n",
    "from selenium import webdriver\n",
    "from selenium.webdriver.support.ui import WebDriverWait\n",
    "from selenium.webdriver.support import expected_conditions as EC"
   ]
  },
  {
   "cell_type": "code",
   "execution_count": 44,
   "metadata": {},
   "outputs": [],
   "source": [
    "# driver.get('https://www.wunderground.com/history/daily/us/ny/new-york-city/KLGA/date/2019-6-24?cm_ven=localwx_history')"
   ]
  },
  {
   "cell_type": "code",
   "execution_count": null,
   "metadata": {},
   "outputs": [],
   "source": [
    "# weatherdata = driver.find_elements_by_id('history-observation-table')[0].text"
   ]
  },
  {
   "cell_type": "code",
   "execution_count": null,
   "metadata": {
    "scrolled": true
   },
   "outputs": [],
   "source": [
    "# weatherdata"
   ]
  },
  {
   "cell_type": "code",
   "execution_count": null,
   "metadata": {},
   "outputs": [],
   "source": [
    "# var = 10\n",
    "# month_element = driver.find_element_by_xpath('//*[@id=\"inner-content\"]/div[2]/div[1]/div/div[1]/div/div/date-selector/div/select[1]/option[%s]'% var)\n",
    "# month_element.click()"
   ]
  },
  {
   "cell_type": "code",
   "execution_count": 61,
   "metadata": {},
   "outputs": [],
   "source": [
    "# def weather_table(month,day, selected_year, current_year): #month: alphabetic, rest are numeric\n",
    " \n",
    "#     month_dict = {'January':1,\n",
    "#              'February':2,\n",
    "#              'March':3,\n",
    "#              'April':4,\n",
    "#              'May':5,\n",
    "#              'June':6,\n",
    "#              'July':7,\n",
    "#              'August':8,\n",
    "#              'September':9,\n",
    "#              'October':10,\n",
    "#              'November':11,\n",
    "#              'December':12}\n",
    "\n",
    "#     m = month_dict.get(month)\n",
    "#     d = int(day)\n",
    "#     y = int(current_year) - int(selected_year) + 1\n",
    "\n",
    "#     month_element = driver.find_element_by_xpath('//*[@id=\"inner-content\"]/div[2]/div[1]/div/div[1]/div/div/date-selector/div/select[1]/option[%s]' % m).click()\n",
    "#     day_element = driver.find_element_by_xpath('//*[@id=\"inner-content\"]/div[2]/div[1]/div/div[1]/div/div/date-selector/div/select[2]/option[%s]' % d).click()\n",
    "#     year_element = driver.find_element_by_xpath('//*[@id=\"inner-content\"]/div[2]/div[1]/div/div[1]/div/div/date-selector/div/select[3]/option[%s]' % y).click()\n",
    "#     view = driver.find_element_by_xpath('//*[@id=\"inner-content\"]/div[2]/div[1]/div/div[1]/div/div/date-selector/div/input')\n",
    "#     view.click()\n",
    "    \n",
    "# #     print(len(driver.find_elements_by_id('history-observation-table')))\n",
    "#     weatherdata = driver.find_elements_by_id('history-observation-table')[0].text\n",
    "#     header,info = weatherdata.split('\\n',1)\n",
    "#     info_lst = info.split(' in')\n",
    "    \n",
    "#     header = header.split(' ')[:2]\n",
    "#     filtered = [x for x in info_lst if len(x) > 4]\n",
    "\n",
    "#     time_lst = []\n",
    "#     temp_lst = []\n",
    "\n",
    "#     for i in range(len(filtered)):\n",
    "#         if i == 0:\n",
    "#             time = filtered[i].split('\\n')[0]\n",
    "#             temp = int(filtered[i].split('\\n')[1].split(' ')[0])\n",
    "#         else:\n",
    "#             time = filtered[i].split('\\n')[1]\n",
    "#             temp = int(filtered[i].split('\\n')[2].split(' ',1)[0])\n",
    "\n",
    "#         time_lst.append(time)\n",
    "#         temp_lst.append(temp)\n",
    "\n",
    "#     df = pd.DataFrame(list(zip(time_lst,temp_lst)),columns = header) \n",
    "#     df['Date'] = str(month) + '-'+ str(day)+'-' + str(selected_year)\n",
    "    \n",
    "#     weatherdata = ''\n",
    "    \n",
    "#     return df\n",
    "    \n",
    "    \n",
    "    "
   ]
  },
  {
   "cell_type": "code",
   "execution_count": 47,
   "metadata": {},
   "outputs": [],
   "source": [
    "def weather_table(date): #year-month-date\n",
    "    driver = webdriver.Chrome('/Users/duytienpham/eclipse-workspace/ChromeDriver/chromedriver')\n",
    "    driver.get('https://www.wunderground.com/history/daily/us/ny/new-york-city/KLGA/date/{}'.format(date))\n",
    "    driver.implicitly_wait(15)\n",
    "\n",
    "    time_lst = []\n",
    "    temp_lst = []\n",
    "\n",
    "    rows = driver.find_element_by_xpath('//*[@id=\"history-observation-table\"]/tbody').find_elements_by_tag_name('tr')\n",
    "    for row in rows:\n",
    "        time_lst.append(row.find_elements_by_tag_name('td')[0].text)\n",
    "        temp_lst.append(row.find_elements_by_tag_name('td')[1].text)\n",
    "        \n",
    "    df = pd.DataFrame(list(zip(time_lst,temp_lst)), columns = ['Time','Temperature']) \n",
    "    df['Date'] = date\n",
    "    driver.quit() #important - must always quit browser in order to avoid parallel usage selenium\n",
    "   \n",
    "    return df"
   ]
  },
  {
   "cell_type": "code",
   "execution_count": 49,
   "metadata": {},
   "outputs": [],
   "source": [
    "def wunderground_scraping(start,end):\n",
    "    ''' Enter a string of date which format is year-month-date (numeric)\n",
    "    ex: '2017-11-27'\n",
    "    '''\n",
    "    start_year = int(start.split('-')[0])\n",
    "    start_month = int(start.split('-')[1])\n",
    "    start_date = int(start.split('-')[-1])\n",
    "#     start = '-'.join([str(start_year),str(start_month),str(start_date)])\n",
    "    \n",
    "    end_year = int(end.split('-')[0])\n",
    "    end_month = int(end.split('-')[1])\n",
    "    end_date = int(end.split('-')[-1])\n",
    "#     end = '-'.join([str(end_year),str(end_month),str(end_date)])\n",
    "    \n",
    "    day_range = list(range(32))\n",
    "#     month_range = ['January','February','March','April','May','June','July','August','September','October','November','December']\n",
    "    month_range = list(range(1,13))\n",
    "    month_length = {1:31,\n",
    "             2:28,\n",
    "             3:31,\n",
    "             4:30,\n",
    "             5:31,\n",
    "             6:30,\n",
    "             7:31,\n",
    "             8:31,\n",
    "             9:30,\n",
    "             10:31,\n",
    "             11:30,\n",
    "             12:31}\n",
    "    \n",
    "    \n",
    "    master_df = pd.DataFrame()\n",
    "#     start_month_idx = month_range.index(start_month)\n",
    "#     end_month_idx = month_range.index(end_month)\n",
    "    \n",
    "    if start_month == end_month:\n",
    "        for i in range(start_date, end_date+1):\n",
    "            dat = '-'.join([str(start_year),str(start_month), str(i)])\n",
    "            df = weather_table(dat)\n",
    "            master_df = pd.concat([master_df,df])\n",
    "    else:\n",
    "        for month in range(start_month, end_month+1):\n",
    "            if month == start_month:\n",
    "                for i in range(start_date, month_length.get(month) + 1):\n",
    "                    dat = '-'.join([str(start_year),str(start_month), str(i)])\n",
    "                    df = weather_table(dat)\n",
    "                    master_df = pd.concat([master_df,df])\n",
    "                    \n",
    "            elif month == end_month:\n",
    "                for i in range(1, end_date+1):\n",
    "                    dat = '-'.join([str(end_year),str(end_month), str(i)])\n",
    "                    df = weather_table(dat)\n",
    "                    master_df = pd.concat([master_df,df]) \n",
    "                    \n",
    "            else:\n",
    "#                 (month != start_month) and (month != end_month):\n",
    "                for i in range(1, month_length.get(month) + 1):\n",
    "                    dat = '-'.join([str(start_year),str(month), str(i)])\n",
    "                    df = weather_table(dat)\n",
    "                    master_df = pd.concat([master_df,df]) \n",
    "                \n",
    "    return master_df     "
   ]
  },
  {
   "cell_type": "code",
   "execution_count": 32,
   "metadata": {},
   "outputs": [],
   "source": [
    "data47_18 = wunderground_scraping('2018-4-1','2018-7-31')"
   ]
  },
  {
   "cell_type": "code",
   "execution_count": 33,
   "metadata": {},
   "outputs": [],
   "source": [
    "data810_18 = wunderground_scraping('2018-8-1','2018-10-31')"
   ]
  },
  {
   "cell_type": "code",
   "execution_count": 34,
   "metadata": {},
   "outputs": [],
   "source": [
    "data2018 = pd.concat([data47_18,data810_18])"
   ]
  },
  {
   "cell_type": "code",
   "execution_count": 37,
   "metadata": {},
   "outputs": [],
   "source": [
    "data2018 = data2018.reset_index()\n",
    "data2018 = data2018.drop(columns = ['index'])\n",
    "# data2018.to_csv('temp2018.cvs')"
   ]
  },
  {
   "cell_type": "code",
   "execution_count": 62,
   "metadata": {},
   "outputs": [],
   "source": [
    "data2018.to_csv('temp2018.csv')"
   ]
  },
  {
   "cell_type": "code",
   "execution_count": 54,
   "metadata": {},
   "outputs": [],
   "source": [
    "data47_17 = wunderground_scraping('2017-4-1','2017-10-31')"
   ]
  },
  {
   "cell_type": "code",
   "execution_count": 58,
   "metadata": {},
   "outputs": [
    {
     "data": {
      "text/plain": [
       "Index(['level_0', 'index', 'Time', 'Temperature', 'Date'], dtype='object')"
      ]
     },
     "execution_count": 58,
     "metadata": {},
     "output_type": "execute_result"
    }
   ],
   "source": [
    "data47_17 = data47_17.reset_index()\n",
    "data47_17.columns"
   ]
  },
  {
   "cell_type": "code",
   "execution_count": 59,
   "metadata": {},
   "outputs": [],
   "source": [
    "data47_17 = data47_17.drop(columns = ['level_0','index'])"
   ]
  },
  {
   "cell_type": "code",
   "execution_count": 63,
   "metadata": {},
   "outputs": [],
   "source": [
    "data46_18 = wunderground_scraping('2019-4-1','2019-6-25')"
   ]
  },
  {
   "cell_type": "code",
   "execution_count": 64,
   "metadata": {},
   "outputs": [],
   "source": [
    "data46_18.to_csv('temp_2019.csv')"
   ]
  },
  {
   "cell_type": "code",
   "execution_count": null,
   "metadata": {},
   "outputs": [],
   "source": []
  }
 ],
 "metadata": {
  "kernelspec": {
   "display_name": "Python 3",
   "language": "python",
   "name": "python3"
  },
  "language_info": {
   "codemirror_mode": {
    "name": "ipython",
    "version": 3
   },
   "file_extension": ".py",
   "mimetype": "text/x-python",
   "name": "python",
   "nbconvert_exporter": "python",
   "pygments_lexer": "ipython3",
   "version": "3.7.1"
  }
 },
 "nbformat": 4,
 "nbformat_minor": 2
}
